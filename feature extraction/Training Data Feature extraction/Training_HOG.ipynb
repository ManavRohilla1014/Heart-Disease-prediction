{
 "cells": [
  {
   "cell_type": "code",
   "execution_count": 1,
   "metadata": {},
   "outputs": [],
   "source": [
    "import numpy as np\n",
    "from skimage.feature import hog\n",
    "from skimage import exposure\n",
    "from skimage.feature.texture import graycomatrix, graycoprops\n",
    "from skimage.io import imread\n",
    "import nibabel as nib\n",
    "import matplotlib.pyplot as plt\n"
   ]
  },
  {
   "cell_type": "code",
   "execution_count": 2,
   "metadata": {},
   "outputs": [],
   "source": [
    "# Load MRI heart image from NIfTI file\n",
    "# Replace 'your_image.nii.gz' with the path to your NIfTI file\n",
    "# For simplicity, we'll use a placeholder image here\n",
    "nifti_file_path = 'F:\\Image CHD\\ImageCHD_dataset\\Training Data\\ct_1002_image.nii.gz'\n",
    "nifti_img = nib.load(nifti_file_path)\n",
    "image = nifti_img.get_fdata()"
   ]
  },
  {
   "cell_type": "code",
   "execution_count": 3,
   "metadata": {},
   "outputs": [],
   "source": [
    "# Preprocess the image as needed (e.g., resizing, denoising, normalization)\n",
    "# Here's a basic preprocessing example (you might need more advanced preprocessing depending on your data)\n",
    "# Example: Resize the image to a desired size\n",
    "from skimage.transform import resize\n",
    "image = resize(image, (256, 256, image.shape[-1]), anti_aliasing=True)  # Ensure the same spatial dimensions for all channels\n"
   ]
  },
  {
   "cell_type": "code",
   "execution_count": 4,
   "metadata": {},
   "outputs": [],
   "source": [
    "# Compute HOG features for each channel separately\n",
    "# Specify HOG parameters\n",
    "orientations = 9\n",
    "pixels_per_cell = (8, 8)\n",
    "cells_per_block = (2, 2)\n",
    "hog_features_per_channel = []\n",
    "hog_images_per_channel = []\n",
    "for channel in range(image.shape[-1]):\n",
    "    # Calculate HOG features for the current channel\n",
    "    hog_features, hog_image = hog(image[..., channel], orientations=orientations, pixels_per_cell=pixels_per_cell,\n",
    "                                  cells_per_block=cells_per_block, visualize=True)\n",
    "    hog_features_per_channel.append(hog_features)\n",
    "    hog_images_per_channel.append(hog_image)"
   ]
  },
  {
   "cell_type": "code",
   "execution_count": 5,
   "metadata": {},
   "outputs": [],
   "source": [
    "# Concatenate HOG features from all channels\n",
    "hog_features = np.concatenate(hog_features_per_channel)\n"
   ]
  },
  {
   "cell_type": "code",
   "execution_count": 6,
   "metadata": {},
   "outputs": [
    {
     "data": {
      "image/png": "[encoded data removed]",
      "text/plain": [
       "<Figure size 1500x500 with 138 Axes>"
      ]
     },
     "metadata": {},
     "output_type": "display_data"
    }
   ],
   "source": [
    "# Plot the original image and its corresponding HOG representation for each channel\n",
    "fig, axes = plt.subplots(nrows=1, ncols=len(hog_images_per_channel) + 1, figsize=(15, 5))\n",
    "\n",
    "for ax, hog_image, channel_idx in zip(axes, hog_images_per_channel + [None], range(len(hog_images_per_channel) + 1)):\n",
    "    if channel_idx < len(hog_images_per_channel):\n",
    "        ax.imshow(hog_image, cmap=plt.cm.gray)\n",
    "        ax.set_title(f'HOG Features (Channel {channel_idx})')\n",
    "    else:\n",
    "        ax.imshow(image[..., 0], cmap=plt.cm.gray)  # Show the first channel as the original image\n",
    "        ax.set_title('Original Image')\n",
    "\n",
    "plt.show()"
   ]
  },
  {
   "cell_type": "code",
   "execution_count": 7,
   "metadata": {},
   "outputs": [],
   "source": [
    "\n",
    "# Calculate texture properties using GLCM\n",
    "properties = ['contrast', 'dissimilarity', 'homogeneity', 'energy', 'correlation']\n",
    "distances = [1]  # distance between pixels\n",
    "angles = [0, np.pi/4, np.pi/2, 3*np.pi/4]  # angles for pixel pairs\n"
   ]
  },
  {
   "cell_type": "code",
   "execution_count": 8,
   "metadata": {},
   "outputs": [],
   "source": [
    "# Convert the image to unsigned integer type\n",
    "image_uint = (image[..., 0] * 255).astype(np.uint8)\n",
    "\n",
    "# Calculate GLCM matrix\n",
    "glcm = graycomatrix(image_uint, distances=distances, angles=angles, levels=256, symmetric=True, normed=True)\n"
   ]
  },
  {
   "cell_type": "code",
   "execution_count": 9,
   "metadata": {},
   "outputs": [],
   "source": [
    "# Calculate texture properties\n",
    "texture_props = dict()\n",
    "for prop in properties:\n",
    "    texture_props[prop] = graycoprops(glcm, prop).ravel()[0]  # Assuming one distance and angle for simplicity\n"
   ]
  },
  {
   "cell_type": "code",
   "execution_count": 10,
   "metadata": {},
   "outputs": [
    {
     "name": "stdout",
     "output_type": "stream",
     "text": [
      "Texture Properties:\n",
      "contrast: 10945.405775127929\n",
      "dissimilarity: 85.40065870103025\n",
      "homogeneity: 0.011818155649790945\n",
      "energy: 0.0048009296944910755\n",
      "correlation: 0.0012226790527432273\n"
     ]
    }
   ],
   "source": [
    "# Print texture properties\n",
    "print(\"Texture Properties:\")\n",
    "for prop, value in texture_props.items():\n",
    "    print(f\"{prop}: {value}\")"
   ]
  },
  {
   "cell_type": "code",
   "execution_count": 11,
   "metadata": {},
   "outputs": [],
   "source": [
    "import os\n",
    "import numpy as np\n",
    "from skimage.feature import graycomatrix, graycoprops\n",
    "import nibabel as nib\n",
    "import pandas as pd"
   ]
  },
  {
   "cell_type": "code",
   "execution_count": 12,
   "metadata": {},
   "outputs": [],
   "source": [
    "# Folder containing the NIfTI files\n",
    "folder_path = 'F:\\Image CHD\\ImageCHD_dataset\\Training Data'"
   ]
  },
  {
   "cell_type": "code",
   "execution_count": 13,
   "metadata": {},
   "outputs": [],
   "source": [
    "\n",
    "# Function to calculate texture properties using GLCM for a given image\n",
    "def calculate_texture_properties(image):\n",
    "    # Calculate texture properties using GLCM\n",
    "    properties = ['contrast', 'dissimilarity', 'homogeneity', 'energy', 'correlation']\n",
    "    distances = [1]  # distance between pixels\n",
    "    angles = [0, np.pi/4, np.pi/2, 3*np.pi/4]  # angles for pixel pairs\n",
    "\n",
    "    # Convert the image to unsigned integer type\n",
    "    image_uint = (image[..., 0] * 255).astype(np.uint8)\n",
    "\n",
    "    # Calculate GLCM matrix\n",
    "    glcm = graycomatrix(image_uint, distances=distances, angles=angles, levels=256, symmetric=True, normed=True)\n",
    "\n",
    "    # Calculate texture properties\n",
    "    texture_props = dict()\n",
    "    for prop in properties:\n",
    "        texture_props[prop] = graycoprops(glcm, prop).ravel()[0]  # Assuming one distance and angle for simplicity\n",
    "\n",
    "    return texture_props\n"
   ]
  },
  {
   "cell_type": "code",
   "execution_count": 14,
   "metadata": {},
   "outputs": [],
   "source": [
    "# List to store the results\n",
    "results = []"
   ]
  },
  {
   "cell_type": "code",
   "execution_count": 15,
   "metadata": {},
   "outputs": [],
   "source": [
    "# Iterate over all files in the folder\n",
    "for file_name in os.listdir(folder_path):\n",
    "    if file_name.endswith('.nii.gz'):\n",
    "        # Load MRI heart image from NIfTI file\n",
    "        file_path = os.path.join(folder_path, file_name)\n",
    "        nifti_img = nib.load(file_path)\n",
    "        image = nifti_img.get_fdata()\n",
    "\n",
    "        # Calculate texture properties using GLCM\n",
    "        texture_props = calculate_texture_properties(image)\n",
    "\n",
    "        # Append the results with file name\n",
    "        result_entry = {'File': file_name}\n",
    "        result_entry.update(texture_props)\n",
    "        results.append(result_entry)\n"
   ]
  },
  {
   "cell_type": "code",
   "execution_count": 16,
   "metadata": {},
   "outputs": [],
   "source": [
    "# Create a DataFrame from the results\n",
    "df = pd.DataFrame(results)"
   ]
  },
  {
   "cell_type": "code",
   "execution_count": 17,
   "metadata": {},
   "outputs": [
    {
     "name": "stdout",
     "output_type": "stream",
     "text": [
      "Texture properties saved to HOG_properties.xlsx\n"
     ]
    }
   ],
   "source": [
    "# Save the DataFrame to an Excel file\n",
    "excel_file_path = 'HOG_properties.xlsx'\n",
    "df.to_excel(excel_file_path, index=False)\n",
    "\n",
    "print(f\"Texture properties saved to {excel_file_path}\")"
   ]
  },
  {
   "cell_type": "code",
   "execution_count": 1,
   "metadata": {},
   "outputs": [],
   "source": [
    "import os\n",
    "import numpy as np\n",
    "from skimage.feature import hog\n",
    "from skimage import exposure\n",
    "import nibabel as nib\n",
    "import pandas as pd\n"
   ]
  },
  {
   "cell_type": "code",
   "execution_count": 2,
   "metadata": {},
   "outputs": [],
   "source": [
    "# Function to calculate HOG properties for a given 2D slice\n",
    "def calculate_hog_properties(slice_image):\n",
    "    # Specify HOG parameters\n",
    "    orientations = 9\n",
    "    pixels_per_cell = (8, 8)  # Adjust the cell size according to your data\n",
    "    cells_per_block = (2, 2)   # Adjust the block size according to your data\n",
    "    \n",
    "    # Calculate HOG features\n",
    "    hog_features, _ = hog(slice_image, orientations=orientations, pixels_per_cell=pixels_per_cell,\n",
    "                          cells_per_block=cells_per_block, visualize=True)\n",
    "    \n",
    "    # Compute properties from HOG features\n",
    "    contrast = np.mean(hog_features)\n",
    "    dissimilarity = np.std(hog_features)\n",
    "    homogeneity = np.median(hog_features)\n",
    "    energy = np.sum(np.square(hog_features)) / hog_features.size\n",
    "    \n",
    "    # Check if hog_features is a scalar\n",
    "    if np.isscalar(hog_features):\n",
    "        correlation = np.nan  # Assign NaN if hog_features is a scalar\n",
    "    else:\n",
    "        # Check if hog_features has at least 2 elements before calculating correlation\n",
    "        if hog_features.ndim >= 2 and hog_features.shape[0] > 1:\n",
    "            correlation = np.corrcoef(hog_features)[0, 1]  # Calculate correlation\n",
    "        else:\n",
    "            correlation = np.nan  # Assign NaN if insufficient data\n",
    "    \n",
    "    return {'contrast': contrast, 'dissimilarity': dissimilarity, \n",
    "            'homogeneity': homogeneity, 'energy': energy, 'correlation': correlation}"
   ]
  },
  {
   "cell_type": "code",
   "execution_count": 3,
   "metadata": {},
   "outputs": [],
   "source": [
    "# Folder containing the NIfTI files\n",
    "folder_path = 'F:\\Image CHD\\ImageCHD_dataset\\Training Data'\n"
   ]
  },
  {
   "cell_type": "code",
   "execution_count": 4,
   "metadata": {},
   "outputs": [],
   "source": [
    "# List to store the results\n",
    "results = []"
   ]
  },
  {
   "cell_type": "code",
   "execution_count": 5,
   "metadata": {},
   "outputs": [],
   "source": [
    "# Iterate over all files in the folder\n",
    "for file_name in os.listdir(folder_path):\n",
    "    if file_name.endswith('.nii.gz'):\n",
    "        # Load MRI heart image from NIfTI file\n",
    "        file_path = os.path.join(folder_path, file_name)\n",
    "        nifti_img = nib.load(file_path)\n",
    "        image = nifti_img.get_fdata()\n",
    "\n",
    "        # Calculate HOG properties for each slice\n",
    "        hog_props_per_slice = []\n",
    "        for slice_idx in range(image.shape[2]):\n",
    "            slice_image = image[..., slice_idx]\n",
    "            hog_props = calculate_hog_properties(slice_image)\n",
    "            hog_props_per_slice.append(hog_props)\n",
    "        \n",
    "        # Average HOG properties across slices\n",
    "        avg_hog_props = {prop: np.mean([hog_props[prop] for hog_props in hog_props_per_slice])\n",
    "                         for prop in hog_props_per_slice[0].keys()}\n",
    "        \n",
    "        # Append the results with file name\n",
    "        result_entry = {'File': file_name}\n",
    "        result_entry.update(avg_hog_props)\n",
    "        results.append(result_entry)\n"
   ]
  },
  {
   "cell_type": "code",
   "execution_count": null,
   "metadata": {},
   "outputs": [],
   "source": [
    "# Create a DataFrame from the results\n",
    "df = pd.DataFrame(results)\n",
    "\n",
    "# Save the DataFrame to an Excel file\n",
    "excel_file_path = 'hog_propertie.xlsx'\n",
    "df.to_excel(excel_file_path, index=False)\n",
    "\n",
    "print(f\"HOG properties saved to {excel_file_path}\")"
   ]
  }
 ],
 "metadata": {
  "kernelspec": {
   "display_name": "base",
   "language": "python",
   "name": "python3"
  },
  "language_info": {
   "codemirror_mode": {
    "name": "ipython",
    "version": 3
   },
   "file_extension": ".py",
   "mimetype": "text/x-python",
   "name": "python",
   "nbconvert_exporter": "python",
   "pygments_lexer": "ipython3",
   "version": "3.11.5"
  }
 },
 "nbformat": 4,
 "nbformat_minor": 2
}
