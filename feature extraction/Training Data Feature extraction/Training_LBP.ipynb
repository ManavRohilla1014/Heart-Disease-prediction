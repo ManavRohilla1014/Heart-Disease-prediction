{
 "cells": [
  {
   "cell_type": "code",
   "execution_count": 1,
   "metadata": {},
   "outputs": [],
   "source": [
    "import os\n",
    "import SimpleITK as sitk\n",
    "import numpy as np\n",
    "import pandas as pd\n"
   ]
  },
  {
   "cell_type": "code",
   "execution_count": 2,
   "metadata": {},
   "outputs": [],
   "source": [
    "# Function to compute LBP from NIfTI file\n",
    "def compute_lbp_2_from_nifti(file_path):\n",
    "    # Read NIfTI file using SimpleITK\n",
    "    image = sitk.ReadImage(file_path)\n",
    "    image_array = sitk.GetArrayFromImage(image)\n",
    "\n",
    "    # Calculate LBP using the provided code snippet\n",
    "    result = np.zeros_like(image_array, dtype=np.uint8)\n",
    "\n",
    "    result[1:-1, 0:-2] |= (image_array[0:-2, 1:-1] > image_array[1:-1, 1:-1])\n",
    "    result[1:-1, 0:-2] |= np.left_shift((image_array[1:-1, 2:] > image_array[1:-1, 1:-1]), 1).astype(np.uint8)\n",
    "    # Continue similar operations for the other positions...\n",
    "     # Perform similar operations for the other 6 positions\n",
    "    result[1:-1, 2:] |= np.left_shift((image_array[0:-2, 2:] > image_array[1:-1, 1:-1]), 2).astype(np.uint8)\n",
    "    result[1:-1, 2:] |= np.left_shift((image_array[0:-2, 1:-1] > image_array[1:-1, 1:-1]), 3).astype(np.uint8)\n",
    "    \n",
    "    result[2:, 2:] |= np.left_shift((image_array[0:-2, 2:] > image_array[1:-1, 1:-1]), 4).astype(np.uint8)\n",
    "    result[2:, 2:] |= np.left_shift((image_array[1:-1, 2:] > image_array[1:-1, 1:-1]), 5).astype(np.uint8)\n",
    "    \n",
    "    result[2:, 1:-1] |= np.left_shift((image_array[0:-2, 0:-2] > image_array[1:-1, 1:-1]), 6).astype(np.uint8)\n",
    "    result[2:, 1:-1] |= np.left_shift((image_array[1:-1, 0:-2] > image_array[1:-1, 1:-1]), 7).astype(np.uint8)\n",
    "    \n",
    "    result[2:, 0:-2] |= np.left_shift((image_array[0:-2, 0:-2] > image_array[1:-1, 1:-1]), 0).astype(np.uint8)\n",
    "    result[2:, 0:-2] |= np.left_shift((image_array[1:-1, 0:-2] > image_array[1:-1, 1:-1]), 1).astype(np.uint8)\n",
    "\n",
    "    return result"
   ]
  },
  {
   "cell_type": "code",
   "execution_count": 3,
   "metadata": {},
   "outputs": [],
   "source": [
    "# Function to calculate texture properties from LBP matrix\n",
    "def calculate_texture_properties(lbp_matrix):\n",
    "    # Calculate texture properties (replace with your implementation)\n",
    "    # Here's a dummy implementation for demonstration purposes\n",
    "    texture_properties = {\n",
    "        'Contrast': np.mean(lbp_matrix),\n",
    "        'Dissimilarity': np.std(lbp_matrix),\n",
    "        'Homogeneity': np.sum(lbp_matrix) / (np.max(lbp_matrix) + 1),\n",
    "        'Correlation': np.corrcoef(lbp_matrix.ravel(), lbp_matrix.ravel())[0, 1],\n",
    "        'Energy': np.sum(lbp_matrix ** 2) / lbp_matrix.size\n",
    "    }\n",
    "    return texture_properties\n"
   ]
  },
  {
   "cell_type": "code",
   "execution_count": 4,
   "metadata": {},
   "outputs": [],
   "source": [
    "# Path to directory containing all NIfTI files\n",
    "data_dir = 'F:\\Image CHD\\ImageCHD_dataset\\Training Data'"
   ]
  },
  {
   "cell_type": "code",
   "execution_count": 5,
   "metadata": {},
   "outputs": [],
   "source": [
    "# Initialize an empty DataFrame to store results\n",
    "results_df = pd.DataFrame(columns=['File', 'Contrast', 'Dissimilarity', 'Homogeneity', 'Correlation', 'Energy'])"
   ]
  },
  {
   "cell_type": "code",
   "execution_count": 6,
   "metadata": {},
   "outputs": [],
   "source": [
    "# Loop through each file in the directory\n",
    "for file_name in os.listdir(data_dir):\n",
    "    if file_name.endswith('.nii.gz'):\n",
    "        # Compute LBP from NIfTI file\n",
    "        nifti_file_path = os.path.join(data_dir, file_name)\n",
    "        lbp_result = compute_lbp_2_from_nifti(nifti_file_path)\n",
    "        \n",
    "        # Calculate texture properties from LBP result\n",
    "        texture_properties = calculate_texture_properties(lbp_result)\n",
    "        \n",
    "        # Add file name and properties to DataFrame\n",
    "        results_df.loc[len(results_df)] = [file_name, *texture_properties.values()]\n"
   ]
  },
  {
   "cell_type": "code",
   "execution_count": 7,
   "metadata": {},
   "outputs": [],
   "source": [
    "# Save results to Excel file\n",
    "results_df.to_excel('LBP_propertie.xlsx', index=False)"
   ]
  }
 ],
 "metadata": {
  "kernelspec": {
   "display_name": "base",
   "language": "python",
   "name": "python3"
  },
  "language_info": {
   "codemirror_mode": {
    "name": "ipython",
    "version": 3
   },
   "file_extension": ".py",
   "mimetype": "text/x-python",
   "name": "python",
   "nbconvert_exporter": "python",
   "pygments_lexer": "ipython3",
   "version": "3.11.5"
  }
 },
 "nbformat": 4,
 "nbformat_minor": 2
}
