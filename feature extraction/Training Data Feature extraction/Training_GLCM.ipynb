{
 "cells": [
  {
   "cell_type": "code",
   "execution_count": 20,
   "metadata": {},
   "outputs": [],
   "source": [
    "import os\n",
    "import nibabel as nib\n",
    "from skimage.feature import graycomatrix, graycoprops\n",
    "from skimage.measure import shannon_entropy\n",
    "import numpy as np\n",
    "import pandas as pd"
   ]
  },
  {
   "cell_type": "code",
   "execution_count": 21,
   "metadata": {},
   "outputs": [],
   "source": [
    "# Define the folder path containing NIfTI files\n",
    "folder_path = \"F:/Image CHD/ImageCHD_dataset/Training Data/\""
   ]
  },
  {
   "cell_type": "code",
   "execution_count": 22,
   "metadata": {},
   "outputs": [],
   "source": [
    "# Define output file path\n",
    "output_file = \"glcm_features.xlsx\""
   ]
  },
  {
   "cell_type": "code",
   "execution_count": 23,
   "metadata": {},
   "outputs": [],
   "source": [
    "# Define property names for clarity\n",
    "property_names = [\"Contrast\", \"Dissimilarity\", \"Homogeneity\", \"Energy\", \"Correlation\"]"
   ]
  },
  {
   "cell_type": "code",
   "execution_count": 24,
   "metadata": {},
   "outputs": [],
   "source": [
    "# List to store data for each slice\n",
    "data_list = []"
   ]
  },
  {
   "cell_type": "code",
   "execution_count": 25,
   "metadata": {},
   "outputs": [],
   "source": [
    "# Iterate through all files in the folder\n",
    "for filename in os.listdir(folder_path):\n",
    "    # Check if it's a NIfTI file\n",
    "    if not filename.endswith(\".nii.gz\"):\n",
    "        continue\n",
    "\n",
    "    # Load the image\n",
    "    img = nib.load(os.path.join(folder_path, filename))\n",
    "    data = img.get_fdata()\n",
    "\n",
    "    # Iterate through each slice\n",
    "    for slice_num in range(data.shape[2]):\n",
    "        # Extract a single 2D slice from the 3D volume\n",
    "        slice_data = data[:, :, slice_num]\n",
    "\n",
    "        # Convert to uint8\n",
    "        slice_data_uint8 = (slice_data * 255).astype(np.uint8)\n",
    "\n",
    "        # Calculate GLCM and properties\n",
    "        glcm = graycomatrix(\n",
    "            slice_data_uint8, distances=[1], angles=[0], symmetric=True, normed=True\n",
    "        )\n",
    "        properties = [\n",
    "            graycoprops(glcm, prop)[0, 0] for prop in [\"contrast\", \"dissimilarity\", \"homogeneity\", \"energy\", \"correlation\"]\n",
    "        ]\n",
    "\n",
    "        # Calculate additional properties\n",
    "        mean_val = np.mean(slice_data_uint8)\n",
    "        variance_val = np.var(slice_data_uint8)\n",
    "        entropy_val = shannon_entropy(slice_data_uint8)\n",
    "        second_moment_val = np.mean(slice_data_uint8 ** 2)\n",
    "\n",
    "        # Prepare data for each slice\n",
    "        slice_data = {\n",
    "            \"File Name\": filename,\n",
    "            \"Slice Number\": slice_num + 1,\n",
    "            \"Mean\": mean_val,\n",
    "            \"Variance\": variance_val,\n",
    "            \"Entropy\": entropy_val,\n",
    "            \"Second Moment\": second_moment_val\n",
    "        }\n",
    "\n",
    "        # Add GLCM properties\n",
    "        for idx, prop_name in enumerate(property_names):\n",
    "            slice_data[prop_name] = properties[idx]\n",
    "\n",
    "        # Append data to list\n",
    "        data_list.append(slice_data)"
   ]
  },
  {
   "cell_type": "code",
   "execution_count": 26,
   "metadata": {},
   "outputs": [],
   "source": [
    "# Check if data_list is non-empty\n",
    "if not data_list:\n",
    "    print(\"No NIfTI files found in the specified directory.\")\n",
    "    exit()"
   ]
  },
  {
   "cell_type": "code",
   "execution_count": 27,
   "metadata": {},
   "outputs": [
    {
     "name": "stdout",
     "output_type": "stream",
     "text": [
      "GLCM features saved to glcm_features.xlsx\n"
     ]
    }
   ],
   "source": [
    "# Create and save the DataFrame\n",
    "data_frame = pd.DataFrame(data_list)\n",
    "data_frame.to_excel(output_file, index=False)\n",
    "\n",
    "print(f\"GLCM features saved to {output_file}\")"
   ]
  },
  {
   "cell_type": "code",
   "execution_count": 2,
   "metadata": {},
   "outputs": [],
   "source": [
    "import os\n",
    "import nibabel as nib\n",
    "from skimage.feature import graycomatrix, graycoprops\n",
    "from skimage.measure import shannon_entropy\n",
    "import numpy as np\n",
    "import pandas as pd\n"
   ]
  },
  {
   "cell_type": "code",
   "execution_count": 3,
   "metadata": {},
   "outputs": [],
   "source": [
    "# Define output file path\n",
    "output_file = \"glcm_feature.xlsx\"\n",
    "# Define property names for clarity\n",
    "property_names = [\"Contrast\", \"Dissimilarity\", \"Homogeneity\", \"energy\", \"Correlation\"]\n"
   ]
  },
  {
   "cell_type": "code",
   "execution_count": 4,
   "metadata": {},
   "outputs": [],
   "source": [
    "# List to store data for each NIfTI file\n",
    "data_list = []\n"
   ]
  },
  {
   "cell_type": "code",
   "execution_count": 6,
   "metadata": {},
   "outputs": [
    {
     "ename": "ValueError",
     "evalue": "['Contrast', 'Dissimilarity', 'Homogeneity', 'energy', 'Correlation'] is an invalid property",
     "output_type": "error",
     "traceback": [
      "\u001b[1;31m---------------------------------------------------------------------------\u001b[0m",
      "\u001b[1;31mValueError\u001b[0m                                Traceback (most recent call last)",
      "Cell \u001b[1;32mIn[6], line 21\u001b[0m\n\u001b[0;32m     17\u001b[0m     \u001b[38;5;66;03m# Calculate GLCM and properties for the entire volume\u001b[39;00m\n\u001b[0;32m     18\u001b[0m glcm \u001b[38;5;241m=\u001b[39m graycomatrix(\n\u001b[0;32m     19\u001b[0m         flattened_data_uint8, distances\u001b[38;5;241m=\u001b[39m[\u001b[38;5;241m1\u001b[39m], angles\u001b[38;5;241m=\u001b[39m[\u001b[38;5;241m0\u001b[39m, np\u001b[38;5;241m.\u001b[39mpi \u001b[38;5;241m/\u001b[39m \u001b[38;5;241m4\u001b[39m, np\u001b[38;5;241m.\u001b[39mpi \u001b[38;5;241m/\u001b[39m \u001b[38;5;241m2\u001b[39m, \u001b[38;5;241m3\u001b[39m \u001b[38;5;241m*\u001b[39m np\u001b[38;5;241m.\u001b[39mpi \u001b[38;5;241m/\u001b[39m \u001b[38;5;241m4\u001b[39m], symmetric\u001b[38;5;241m=\u001b[39m\u001b[38;5;28;01mTrue\u001b[39;00m, normed\u001b[38;5;241m=\u001b[39m\u001b[38;5;28;01mTrue\u001b[39;00m\n\u001b[0;32m     20\u001b[0m     )\n\u001b[1;32m---> 21\u001b[0m properties \u001b[38;5;241m=\u001b[39m graycoprops(glcm, prop\u001b[38;5;241m=\u001b[39m[\u001b[38;5;124m\"\u001b[39m\u001b[38;5;124mContrast\u001b[39m\u001b[38;5;124m\"\u001b[39m, \u001b[38;5;124m\"\u001b[39m\u001b[38;5;124mDissimilarity\u001b[39m\u001b[38;5;124m\"\u001b[39m, \u001b[38;5;124m\"\u001b[39m\u001b[38;5;124mHomogeneity\u001b[39m\u001b[38;5;124m\"\u001b[39m, \u001b[38;5;124m\"\u001b[39m\u001b[38;5;124menergy\u001b[39m\u001b[38;5;124m\"\u001b[39m, \u001b[38;5;124m\"\u001b[39m\u001b[38;5;124mCorrelation\u001b[39m\u001b[38;5;124m\"\u001b[39m])\n\u001b[0;32m     23\u001b[0m     \u001b[38;5;66;03m# Prepare data for each file\u001b[39;00m\n\u001b[0;32m     24\u001b[0m file_data \u001b[38;5;241m=\u001b[39m {\n\u001b[0;32m     25\u001b[0m         \u001b[38;5;124m\"\u001b[39m\u001b[38;5;124mFile Name\u001b[39m\u001b[38;5;124m\"\u001b[39m: filename,\n\u001b[0;32m     26\u001b[0m     }\n",
      "File \u001b[1;32mc:\\Users\\manav\\anaconda3\\Lib\\site-packages\\skimage\\feature\\texture.py:252\u001b[0m, in \u001b[0;36mgraycoprops\u001b[1;34m(P, prop)\u001b[0m\n\u001b[0;32m    250\u001b[0m     \u001b[38;5;28;01mpass\u001b[39;00m\n\u001b[0;32m    251\u001b[0m \u001b[38;5;28;01melse\u001b[39;00m:\n\u001b[1;32m--> 252\u001b[0m     \u001b[38;5;28;01mraise\u001b[39;00m \u001b[38;5;167;01mValueError\u001b[39;00m(\u001b[38;5;124mf\u001b[39m\u001b[38;5;124m'\u001b[39m\u001b[38;5;132;01m{\u001b[39;00mprop\u001b[38;5;132;01m}\u001b[39;00m\u001b[38;5;124m is an invalid property\u001b[39m\u001b[38;5;124m'\u001b[39m)\n\u001b[0;32m    254\u001b[0m \u001b[38;5;66;03m# compute property for each GLCM\u001b[39;00m\n\u001b[0;32m    255\u001b[0m \u001b[38;5;28;01mif\u001b[39;00m prop \u001b[38;5;241m==\u001b[39m \u001b[38;5;124m'\u001b[39m\u001b[38;5;124menergy\u001b[39m\u001b[38;5;124m'\u001b[39m:\n",
      "\u001b[1;31mValueError\u001b[0m: ['Contrast', 'Dissimilarity', 'Homogeneity', 'energy', 'Correlation'] is an invalid property"
     ]
    }
   ],
   "source": [
    "# Iterate through all files in the folder\n",
    "for filename in os.listdir(\"F:\\Image CHD\\ImageCHD_dataset\\Training Data\"):\n",
    "    # Check if it's a NIfTI file\n",
    "    if not filename.endswith(\".nii.gz\"):\n",
    "        continue\n",
    "\n",
    "    # Load the image\n",
    "    img = nib.load(f\"F:\\Image CHD\\ImageCHD_dataset\\Training Data/{filename}\")\n",
    "    data = img.get_fdata()\n",
    "\n",
    "# Flatten the volume into a 2D array\n",
    "flattened_data = data.reshape((-1, data.shape[-1]))\n",
    "\n",
    "    # Convert to uint8\n",
    "flattened_data_uint8 = (flattened_data * 255).astype(np.uint8)\n",
    "\n",
    "    # Calculate GLCM and properties for the entire volume\n",
    "glcm = graycomatrix(\n",
    "        flattened_data_uint8, distances=[1], angles=[0, np.pi / 4, np.pi / 2, 3 * np.pi / 4], symmetric=True, normed=True\n",
    "    )\n",
    "properties = graycoprops(glcm, prop=[\"Contrast\", \"Dissimilarity\", \"Homogeneity\", \"energy\", \"Correlation\"])\n",
    "\n",
    "    # Prepare data for each file\n",
    "file_data = {\n",
    "        \"File Name\": filename,\n",
    "    }\n",
    "\n",
    "    # Add GLCM properties\n",
    "for idx, prop_name in enumerate(property_names):\n",
    "        prop_values = np.array(properties[idx]).reshape(-1)\n",
    "        for angle, value in zip([0, np.pi / 4, np.pi / 2, 3 * np.pi / 4], prop_values):\n",
    "            file_data[f\"{prop_name} - {int(np.degrees(angle))} deg\"] = value\n",
    "\n",
    "    # Append data to list\n",
    "data_list.append(file_data)"
   ]
  }
 ],
 "metadata": {
  "kernelspec": {
   "display_name": "base",
   "language": "python",
   "name": "python3"
  },
  "language_info": {
   "codemirror_mode": {
    "name": "ipython",
    "version": 3
   },
   "file_extension": ".py",
   "mimetype": "text/x-python",
   "name": "python",
   "nbconvert_exporter": "python",
   "pygments_lexer": "ipython3",
   "version": "3.11.5"
  }
 },
 "nbformat": 4,
 "nbformat_minor": 2
}
