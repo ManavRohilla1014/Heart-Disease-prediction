{
 "cells": [
  {
   "cell_type": "code",
   "execution_count": 1,
   "metadata": {},
   "outputs": [],
   "source": [
    "import os\n",
    "import nibabel as nib\n",
    "from skimage.feature import graycomatrix, graycoprops\n",
    "from skimage.measure import shannon_entropy\n",
    "import numpy as np\n",
    "import pandas as pd"
   ]
  },
  {
   "cell_type": "code",
   "execution_count": 2,
   "metadata": {},
   "outputs": [],
   "source": [
    "# Define the folder path containing NIfTI files\n",
    "folder_path = \"F:\\Image CHD\\ImageCHD_dataset\\Test Data\""
   ]
  },
  {
   "cell_type": "code",
   "execution_count": 3,
   "metadata": {},
   "outputs": [],
   "source": [
    "# Define output file path\n",
    "output_file = \"glcm_features2.xlsx\""
   ]
  },
  {
   "cell_type": "code",
   "execution_count": 4,
   "metadata": {},
   "outputs": [],
   "source": [
    "# Define property names for clarity\n",
    "property_names = [\"Contrast\", \"Dissimilarity\", \"Homogeneity\", \"Energy\", \"Correlation\"]"
   ]
  },
  {
   "cell_type": "code",
   "execution_count": 5,
   "metadata": {},
   "outputs": [],
   "source": [
    "# List to store data for each slice\n",
    "data_list = []"
   ]
  },
  {
   "cell_type": "code",
   "execution_count": 6,
   "metadata": {},
   "outputs": [],
   "source": [
    "# Iterate through all files in the folder\n",
    "for filename in os.listdir(folder_path):\n",
    "    # Check if it's a NIfTI file\n",
    "    if not filename.endswith(\".nii.gz\"):\n",
    "        continue\n",
    "\n",
    "    # Load the image\n",
    "    img = nib.load(os.path.join(folder_path, filename))\n",
    "    data = img.get_fdata()\n",
    "\n",
    "    # Iterate through each slice\n",
    "    for slice_num in range(data.shape[2]):\n",
    "        # Extract a single 2D slice from the 3D volume\n",
    "        slice_data = data[:, :, slice_num]\n",
    "\n",
    "        # Convert to uint8\n",
    "        slice_data_uint8 = (slice_data * 255).astype(np.uint8)\n",
    "\n",
    "        # Calculate GLCM and properties\n",
    "        glcm = graycomatrix(\n",
    "            slice_data_uint8, distances=[1], angles=[0], symmetric=True, normed=True\n",
    "        )\n",
    "        properties = [\n",
    "            graycoprops(glcm, prop)[0, 0] for prop in [\"contrast\", \"dissimilarity\", \"homogeneity\", \"energy\", \"correlation\"]\n",
    "        ]\n",
    "\n",
    "        # Calculate additional properties\n",
    "        mean_val = np.mean(slice_data_uint8)\n",
    "        variance_val = np.var(slice_data_uint8)\n",
    "        entropy_val = shannon_entropy(slice_data_uint8)\n",
    "        second_moment_val = np.mean(slice_data_uint8 ** 2)\n",
    "\n",
    "        # Prepare data for each slice\n",
    "        slice_data = {\n",
    "            \"File Name\": filename,\n",
    "            \"Slice Number\": slice_num + 1,\n",
    "            \"Mean\": mean_val,\n",
    "            \"Variance\": variance_val,\n",
    "            \"Entropy\": entropy_val,\n",
    "            \"Second Moment\": second_moment_val\n",
    "        }\n",
    "\n",
    "        # Add GLCM properties\n",
    "        for idx, prop_name in enumerate(property_names):\n",
    "            slice_data[prop_name] = properties[idx]\n",
    "\n",
    "        # Append data to list\n",
    "        data_list.append(slice_data)"
   ]
  },
  {
   "cell_type": "code",
   "execution_count": 7,
   "metadata": {},
   "outputs": [],
   "source": [
    "# Check if data_list is non-empty\n",
    "if not data_list:\n",
    "    print(\"No NIfTI files found in the specified directory.\")\n",
    "    exit()"
   ]
  },
  {
   "cell_type": "code",
   "execution_count": 8,
   "metadata": {},
   "outputs": [
    {
     "name": "stdout",
     "output_type": "stream",
     "text": [
      "GLCM features saved to glcm_features2.xlsx\n"
     ]
    }
   ],
   "source": [
    "# Create and save the DataFrame\n",
    "data_frame = pd.DataFrame(data_list)\n",
    "data_frame.to_excel(output_file, index=False)\n",
    "\n",
    "print(f\"GLCM features saved to {output_file}\")"
   ]
  }
 ],
 "metadata": {
  "kernelspec": {
   "display_name": "base",
   "language": "python",
   "name": "python3"
  },
  "language_info": {
   "codemirror_mode": {
    "name": "ipython",
    "version": 3
   },
   "file_extension": ".py",
   "mimetype": "text/x-python",
   "name": "python",
   "nbconvert_exporter": "python",
   "pygments_lexer": "ipython3",
   "version": "3.11.5"
  }
 },
 "nbformat": 4,
 "nbformat_minor": 2
}
