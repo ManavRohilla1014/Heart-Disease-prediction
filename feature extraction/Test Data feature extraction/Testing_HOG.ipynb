{
 "cells": [
  {
   "cell_type": "code",
   "execution_count": 1,
   "metadata": {},
   "outputs": [],
   "source": [
    "import numpy as np\n",
    "from skimage.feature import hog\n",
    "from skimage import exposure\n",
    "from skimage.feature.texture import graycomatrix, graycoprops\n",
    "from skimage.io import imread\n",
    "import nibabel as nib\n",
    "import matplotlib.pyplot as plt\n"
   ]
  },
  {
   "cell_type": "code",
   "execution_count": 2,
   "metadata": {},
   "outputs": [],
   "source": [
    "# Load MRI heart image from NIfTI file\n",
    "# Replace 'your_image.nii.gz' with the path to your NIfTI file\n",
    "# For simplicity, we'll use a placeholder image here\n",
    "nifti_file_path = 'F:\\Image CHD\\ImageCHD_dataset\\Test Data\\ct_1001_image.nii.gz'\n",
    "nifti_img = nib.load(nifti_file_path)\n",
    "image = nifti_img.get_fdata()"
   ]
  },
  {
   "cell_type": "code",
   "execution_count": 3,
   "metadata": {},
   "outputs": [],
   "source": [
    "# Preprocess the image as needed (e.g., resizing, denoising, normalization)\n",
    "# Here's a basic preprocessing example (you might need more advanced preprocessing depending on your data)\n",
    "# Example: Resize the image to a desired size\n",
    "from skimage.transform import resize\n",
    "image = resize(image, (256, 256, image.shape[-1]), anti_aliasing=True)  # Ensure the same spatial dimensions for all channels\n"
   ]
  },
  {
   "cell_type": "code",
   "execution_count": 4,
   "metadata": {},
   "outputs": [],
   "source": [
    "# Compute HOG features for each channel separately\n",
    "# Specify HOG parameters\n",
    "orientations = 9\n",
    "pixels_per_cell = (8, 8)\n",
    "cells_per_block = (2, 2)\n",
    "hog_features_per_channel = []\n",
    "hog_images_per_channel = []\n",
    "for channel in range(image.shape[-1]):\n",
    "    # Calculate HOG features for the current channel\n",
    "    hog_features, hog_image = hog(image[..., channel], orientations=orientations, pixels_per_cell=pixels_per_cell,\n",
    "                                  cells_per_block=cells_per_block, visualize=True)\n",
    "    hog_features_per_channel.append(hog_features)\n",
    "    hog_images_per_channel.append(hog_image)"
   ]
  },
  {
   "cell_type": "code",
   "execution_count": 5,
   "metadata": {},
   "outputs": [],
   "source": [
    "# Concatenate HOG features from all channels\n",
    "hog_features = np.concatenate(hog_features_per_channel)\n"
   ]
  },
  {
   "cell_type": "code",
   "execution_count": 6,
   "metadata": {},
   "outputs": [
    {
     "data": {
      "image/png": "[encoded data removed]",
      "text/plain": [
       "<Figure size 1500x500 with 222 Axes>"
      ]
     },
     "metadata": {},
     "output_type": "display_data"
    }
   ],
   "source": [
    "# Plot the original image and its corresponding HOG representation for each channel\n",
    "fig, axes = plt.subplots(nrows=1, ncols=len(hog_images_per_channel) + 1, figsize=(15, 5))\n",
    "\n",
    "for ax, hog_image, channel_idx in zip(axes, hog_images_per_channel + [None], range(len(hog_images_per_channel) + 1)):\n",
    "    if channel_idx < len(hog_images_per_channel):\n",
    "        ax.imshow(hog_image, cmap=plt.cm.gray)\n",
    "        ax.set_title(f'HOG Features (Channel {channel_idx})')\n",
    "    else:\n",
    "        ax.imshow(image[..., 0], cmap=plt.cm.gray)  # Show the first channel as the original image\n",
    "        ax.set_title('Original Image')\n",
    "\n",
    "plt.show()"
   ]
  },
  {
   "cell_type": "code",
   "execution_count": 7,
   "metadata": {},
   "outputs": [],
   "source": [
    "\n",
    "# Calculate texture properties using GLCM\n",
    "properties = ['contrast', 'dissimilarity', 'homogeneity', 'energy', 'correlation']\n",
    "distances = [1]  # distance between pixels\n",
    "angles = [0, np.pi/4, np.pi/2, 3*np.pi/4]  # angles for pixel pairs\n"
   ]
  },
  {
   "cell_type": "code",
   "execution_count": 8,
   "metadata": {},
   "outputs": [],
   "source": [
    "# Convert the image to unsigned integer type\n",
    "image_uint = (image[..., 0] * 255).astype(np.uint8)\n",
    "\n",
    "# Calculate GLCM matrix\n",
    "glcm = graycomatrix(image_uint, distances=distances, angles=angles, levels=256, symmetric=True, normed=True)\n"
   ]
  },
  {
   "cell_type": "code",
   "execution_count": 9,
   "metadata": {},
   "outputs": [],
   "source": [
    "# Calculate texture properties\n",
    "texture_props = dict()\n",
    "for prop in properties:\n",
    "    texture_props[prop] = graycoprops(glcm, prop).ravel()[0]  # Assuming one distance and angle for simplicity\n"
   ]
  },
  {
   "cell_type": "code",
   "execution_count": 10,
   "metadata": {},
   "outputs": [
    {
     "name": "stdout",
     "output_type": "stream",
     "text": [
      "Texture Properties:\n",
      "contrast: 10932.93795956427\n",
      "dissimilarity: 85.42570465691124\n",
      "homogeneity: 0.011075681608613603\n",
      "energy: 0.004797824930880611\n",
      "correlation: 0.0015469949708624444\n"
     ]
    }
   ],
   "source": [
    "# Print texture properties\n",
    "print(\"Texture Properties:\")\n",
    "for prop, value in texture_props.items():\n",
    "    print(f\"{prop}: {value}\")"
   ]
  },
  {
   "cell_type": "code",
   "execution_count": 11,
   "metadata": {},
   "outputs": [],
   "source": [
    "import os\n",
    "import numpy as np\n",
    "from skimage.feature import graycomatrix, graycoprops\n",
    "import nibabel as nib\n",
    "import pandas as pd"
   ]
  },
  {
   "cell_type": "code",
   "execution_count": 12,
   "metadata": {},
   "outputs": [],
   "source": [
    "# Folder containing the NIfTI files\n",
    "folder_path = 'F:\\Image CHD\\ImageCHD_dataset\\Test Data'"
   ]
  },
  {
   "cell_type": "code",
   "execution_count": 13,
   "metadata": {},
   "outputs": [],
   "source": [
    "\n",
    "# Function to calculate texture properties using GLCM for a given image\n",
    "def calculate_texture_properties(image):\n",
    "    # Calculate texture properties using GLCM\n",
    "    properties = ['contrast', 'dissimilarity', 'homogeneity', 'energy', 'correlation']\n",
    "    distances = [1]  # distance between pixels\n",
    "    angles = [0, np.pi/4, np.pi/2, 3*np.pi/4]  # angles for pixel pairs\n",
    "\n",
    "    # Convert the image to unsigned integer type\n",
    "    image_uint = (image[..., 0] * 255).astype(np.uint8)\n",
    "\n",
    "    # Calculate GLCM matrix\n",
    "    glcm = graycomatrix(image_uint, distances=distances, angles=angles, levels=256, symmetric=True, normed=True)\n",
    "\n",
    "    # Calculate texture properties\n",
    "    texture_props = dict()\n",
    "    for prop in properties:\n",
    "        texture_props[prop] = graycoprops(glcm, prop).ravel()[0]  # Assuming one distance and angle for simplicity\n",
    "\n",
    "    return texture_props\n"
   ]
  },
  {
   "cell_type": "code",
   "execution_count": 14,
   "metadata": {},
   "outputs": [],
   "source": [
    "# List to store the results\n",
    "results = []"
   ]
  },
  {
   "cell_type": "code",
   "execution_count": 15,
   "metadata": {},
   "outputs": [],
   "source": [
    "# Iterate over all files in the folder\n",
    "for file_name in os.listdir(folder_path):\n",
    "    if file_name.endswith('.nii.gz'):\n",
    "        # Load MRI heart image from NIfTI file\n",
    "        file_path = os.path.join(folder_path, file_name)\n",
    "        nifti_img = nib.load(file_path)\n",
    "        image = nifti_img.get_fdata()\n",
    "\n",
    "        # Calculate texture properties using GLCM\n",
    "        texture_props = calculate_texture_properties(image)\n",
    "\n",
    "        # Append the results with file name\n",
    "        result_entry = {'File': file_name}\n",
    "        result_entry.update(texture_props)\n",
    "        results.append(result_entry)\n"
   ]
  },
  {
   "cell_type": "code",
   "execution_count": 16,
   "metadata": {},
   "outputs": [],
   "source": [
    "# Create a DataFrame from the results\n",
    "df = pd.DataFrame(results)"
   ]
  },
  {
   "cell_type": "code",
   "execution_count": 17,
   "metadata": {},
   "outputs": [
    {
     "name": "stdout",
     "output_type": "stream",
     "text": [
      "Texture properties saved to HOG_properties2.xlsx\n"
     ]
    }
   ],
   "source": [
    "# Save the DataFrame to an Excel file\n",
    "excel_file_path = 'HOG_properties2.xlsx'\n",
    "df.to_excel(excel_file_path, index=False)\n",
    "\n",
    "print(f\"Texture properties saved to {excel_file_path}\")"
   ]
  }
 ],
 "metadata": {
  "kernelspec": {
   "display_name": "base",
   "language": "python",
   "name": "python3"
  },
  "language_info": {
   "codemirror_mode": {
    "name": "ipython",
    "version": 3
   },
   "file_extension": ".py",
   "mimetype": "text/x-python",
   "name": "python",
   "nbconvert_exporter": "python",
   "pygments_lexer": "ipython3",
   "version": "3.11.5"
  }
 },
 "nbformat": 4,
 "nbformat_minor": 2
}
